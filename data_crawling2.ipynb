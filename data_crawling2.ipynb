{
  "nbformat": 4,
  "nbformat_minor": 0,
  "metadata": {
    "colab": {
      "provenance": [],
      "authorship_tag": "ABX9TyO16710fsug3325e3kn0D/3"
    },
    "kernelspec": {
      "name": "python3",
      "display_name": "Python 3"
    },
    "language_info": {
      "name": "python"
    }
  },
  "cells": [
    {
      "cell_type": "code",
      "source": [
        "import json\n",
        "import requests\n",
        "#네트워크 잡아서 정보 가져오기 개발자도구 -> 네트워크 -> 반응잡기 \n",
        "\n",
        "url = requests.get(\"https://project-team.upbit.com/api/v1/disclosure?region=kr&per_page=20\")\n",
        "\n",
        "data = json.loads(url.text) #딕셔너리로 가져오기 \n",
        "\n",
        "for i in data['data']['posts']:\n",
        "    print(i['text'])"
      ],
      "metadata": {
        "colab": {
          "base_uri": "https://localhost:8080/"
        },
        "id": "pw8RmwhKKEvE",
        "outputId": "5b84180b-2237-4697-e915-c94e7810a9ad"
      },
      "execution_count": 2,
      "outputs": [
        {
          "output_type": "stream",
          "name": "stdout",
          "text": [
            "[기공개] 리브랜딩 : 피체인(PCHAIN)이 플리안(Plian)으로 바뀝니다\n",
            "어뷰징 물량 회수 및 소각 공시\n",
            "RINGX 재단, 롯데슈퍼와 업무 제휴 협약 체결\n",
            "베트남 기업 '마켓 사이공'에 블록체인 모빌리티 플랫폼 수출(SaaS)\n",
            "[기공개] 카르테시 x Travala 파트너십 체결\n",
            "[기공개] 엔진, 한국 최대 소셜 게이밍 플랫폼(겜톡톡)과 파트너십... 친환경 NFT 도입 예정\n",
            "[기공개] 플레이댑, 루데나 프로토콜 NFT아이템 거래 지원 계약\n",
            "[기공개] Bifrost PAID Network와 업무 협력 파트너쉽 체결\n",
            "[기공개] 칠리즈, 맨체스터 시티 FC 파트너십 발표\n",
            "[기공개] 토큰 액면 병합: NPXS가 PUNDIX로 바뀝니다.\n",
            "[기공개] 크립토닷컴, 비자와 글로벌 파트너쉽 체결 및 주요 회원사로 선정\n",
            "[기공개] 메디블록, 블록체인 기반의 DID 백신패스 출시 예정\n",
            "[기공개] P2P 마켓플레이스 오리진 프로토콜 , NFT 및 OUSD 라이트페이퍼 출시\n",
            "5조원 규모 초대형 북미 펀드인 Celsius Network에서 GOM2에 투자\n",
            "인도네시아 기업 '퀵스'에 MVL 프로토콜 기반 모빌리티 서비스 플랫폼 수출(SaaS)\n",
            "오브스(Orbs), 블록체인 기업 MOONSTAKE와 협업\n",
            "쎄타랩스, 분산형 비디오 및 데이터 전송을 지원하기 위한 초고 트랜잭션 처리량 소액 결제에 대한 두번째 미국특허취득\n",
            "픽션 네트워크, 신임 대표이사 선출\n",
            "RINGX 재단, OK캐쉬백((주)위페이)과 ‘마이비(Mivy)’ 플랫폼 전환 협업 진행\n",
            "토카막 다오 베타 출시\n"
          ]
        }
      ]
    }
  ]
}